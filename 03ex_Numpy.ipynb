{
 "cells": [
  {
   "cell_type": "code",
   "execution_count": 1,
   "metadata": {},
   "outputs": [],
   "source": [
    "import numpy as np\n",
    "import matplotlib.pyplot as plt\n",
    "import time\n",
    "from os import path"
   ]
  },
  {
   "cell_type": "markdown",
   "metadata": {},
   "source": [
    "### Numpy basics"
   ]
  },
  {
   "cell_type": "markdown",
   "metadata": {},
   "source": [
    "1\\. Find the row, column and overall means for the following matrix:\n",
    "\n",
    "```python\n",
    "m = np.arange(12).reshape((3,4))\n",
    "```"
   ]
  },
  {
   "cell_type": "code",
   "execution_count": 2,
   "metadata": {},
   "outputs": [
    {
     "name": "stdout",
     "output_type": "stream",
     "text": [
      "[[ 0  1  2  3]\n",
      " [ 4  5  6  7]\n",
      " [ 8  9 10 11]]\n",
      "row1: [0 1 2 3]\n",
      "row2: [4 5 6 7]\n",
      "row3: [ 8  9 10 11]\n",
      "column1: [0 4 8]\n",
      "column2: [1 5 9]\n",
      "column3: [ 2  6 10]\n",
      "column4: [ 3  7 11]\n",
      "mean over columns = [1.5 5.5 9.5]\n",
      "mean over rows = [4. 5. 6. 7.]\n",
      "All elements mean = 5.5\n"
     ]
    }
   ],
   "source": [
    "m = np.arange(12).reshape((3,4))\n",
    "print(m)\n",
    "for i in np.arange(np.shape(m)[0]):\n",
    "    print('row'+str(1+i)+':',m[i,:])\n",
    "for i in np.arange(np.shape(m)[1]):\n",
    "    print('column'+str(1+i)+':',m[:,i])    \n",
    "\n",
    "print('mean over columns =',np.mean(m,axis=1))\n",
    "print('mean over rows =',np.mean(m,axis=0))\n",
    "print('All elements mean =',np.mean(m))"
   ]
  },
  {
   "cell_type": "markdown",
   "metadata": {},
   "source": [
    "2\\. Find the outer product of the following two vecotrs\n",
    "\n",
    "```python\n",
    "u = np.array([1,3,5,7])\n",
    "v = np.array([2,4,6,8])\n",
    "```\n",
    "\n",
    "Do this in the following ways:\n",
    "\n",
    "   * Using the function outer in numpy\n",
    "   * Using a nested for loop or list comprehension\n",
    "   * Using numpy broadcasting operatoins\n"
   ]
  },
  {
   "cell_type": "code",
   "execution_count": 3,
   "metadata": {},
   "outputs": [
    {
     "name": "stdout",
     "output_type": "stream",
     "text": [
      "Numpy outer:  \n",
      " [[ 2  4  6  8]\n",
      " [ 6 12 18 24]\n",
      " [10 20 30 40]\n",
      " [14 28 42 56]]\n",
      "Comprehension outer product:  \n",
      " [[ 2  4  6  8]\n",
      " [ 6 12 18 24]\n",
      " [10 20 30 40]\n",
      " [14 28 42 56]] \n",
      "\n",
      "Broadcasting outer:  \n",
      " [[ 2  6 10 14]\n",
      " [ 4 12 20 28]\n",
      " [ 6 18 30 42]\n",
      " [ 8 24 40 56]]\n"
     ]
    }
   ],
   "source": [
    "import numpy as np\n",
    "#1\n",
    "u = np.array([1,3,5,7])\n",
    "v = np.array([2,4,6,8])\n",
    "outer=np.outer(u,v)\n",
    "print('Numpy outer: ','\\n',outer)\n",
    "\n",
    "#2\n",
    "compr_outer=np.array([(u[i]*v[j]) for i in np.arange(len(u)) for j in np.arange(len(v))]).reshape(4,4)\n",
    "print('Comprehension outer product: ','\\n',compr_outer,'\\n')\n",
    "\n",
    "#3\n",
    "u=np.tile(u,(1,1)) #tile reproduces a vecton x times per row and column\n",
    "v=np.tile(v,(1,1)).T\n",
    "print('Broadcasting outer: ','\\n', u*v)"
   ]
  },
  {
   "cell_type": "markdown",
   "metadata": {},
   "source": [
    "3\\. Create a 10 by 6 matrix of random uniform numbers. Set all rows with any entry less than 0.1 to be zero\n",
    "\n",
    "Hint: Use the following numpy functions - np.random.random, np.any as well as Boolean indexing and the axis argument."
   ]
  },
  {
   "cell_type": "code",
   "execution_count": 5,
   "metadata": {},
   "outputs": [
    {
     "name": "stdout",
     "output_type": "stream",
     "text": [
      "random matrix \n",
      " [[0.99823171 0.4310359  0.46518694 0.78854635 0.46880473 0.16747501]\n",
      " [0.00407759 0.46493163 0.93206209 0.34500711 0.81864587 0.33296149]\n",
      " [0.57820618 0.94011975 0.59684374 0.99534343 0.61039415 0.58335557]\n",
      " [0.33203271 0.50976404 0.55378078 0.52483929 0.66476861 0.33686075]\n",
      " [0.37032094 0.19345428 0.55894305 0.81394328 0.79994959 0.94733113]\n",
      " [0.34426367 0.59520701 0.19789721 0.98391869 0.53303188 0.59724568]\n",
      " [0.45103922 0.28085263 0.00872898 0.30905254 0.04596409 0.68467736]\n",
      " [0.95217602 0.17877052 0.34838257 0.96388993 0.9548792  0.9293201 ]\n",
      " [0.88743869 0.99368224 0.46380694 0.9962849  0.06309403 0.98056911]\n",
      " [0.4636912  0.40523624 0.24532993 0.41223353 0.63887031 0.49850593]] \n",
      "\n",
      "New x: \n",
      " [[0.99823171 0.4310359  0.46518694 0.78854635 0.46880473 0.16747501]\n",
      " [0.         0.46493163 0.93206209 0.34500711 0.81864587 0.33296149]\n",
      " [0.57820618 0.94011975 0.59684374 0.99534343 0.61039415 0.58335557]\n",
      " [0.33203271 0.50976404 0.55378078 0.52483929 0.66476861 0.33686075]\n",
      " [0.37032094 0.19345428 0.55894305 0.81394328 0.79994959 0.94733113]\n",
      " [0.34426367 0.59520701 0.19789721 0.98391869 0.53303188 0.59724568]\n",
      " [0.45103922 0.28085263 0.         0.30905254 0.         0.68467736]\n",
      " [0.95217602 0.17877052 0.34838257 0.96388993 0.9548792  0.9293201 ]\n",
      " [0.88743869 0.99368224 0.46380694 0.9962849  0.         0.98056911]\n",
      " [0.4636912  0.40523624 0.24532993 0.41223353 0.63887031 0.49850593]]\n"
     ]
    }
   ],
   "source": [
    "x=np.random.uniform(size=(10,6))\n",
    "print('random matrix',\"\\n\",x,'\\n')\n",
    "\n",
    "x[x<.1]=0\n",
    "print('New x: \\n',x)"
   ]
  },
  {
   "cell_type": "markdown",
   "metadata": {},
   "source": [
    "4\\. Use np.linspace to create an array of 100 numbers between 0 and 2π (includsive).\n",
    "\n",
    "  * Extract every 10th element using slice notation\n",
    "  * Reverse the array using slice notation\n",
    "  * Extract elements where the absolute difference between the sine and cosine functions evaluated at that element is less than 0.1\n",
    "  * Make a plot showing the sin and cos functions and indicate where they are close"
   ]
  },
  {
   "cell_type": "code",
   "execution_count": 10,
   "metadata": {},
   "outputs": [
    {
     "name": "stdout",
     "output_type": "stream",
     "text": [
      "10th elements: [0.         0.63466518 1.26933037 1.90399555 2.53866073 3.17332591\n",
      " 3.8079911  4.44265628 5.07732146 5.71198664] \n",
      "\n"
     ]
    },
    {
     "data": {
      "image/png": "[encoded data removed]",
      "text/plain": [
       "<Figure size 432x288 with 1 Axes>"
      ]
     },
     "metadata": {
      "needs_background": "light"
     },
     "output_type": "display_data"
    }
   ],
   "source": [
    "x=np.linspace(0,2*np.pi,100)\n",
    "\n",
    "x10th_elem=x[::10]\n",
    "print('10th elements:', x10th_elem,'\\n')\n",
    "rev_x = x[::-1]\n",
    "#print('reverse: \\n', rev_x,'\\n')\n",
    "\n",
    "close=x[abs(np.cos(x)-np.sin(x))<0.1]\n",
    "plt.plot(x,np.sin(x))\n",
    "plt.plot(x,np.cos(x))\n",
    "plt.scatter(close,np.sin(close),color='red')\n",
    "plt.scatter(close,np.cos(close),color='red')\n",
    "plt.show();"
   ]
  },
  {
   "cell_type": "markdown",
   "metadata": {},
   "source": [
    "5\\. Create a matrix that shows the 10 by 10 multiplication table.\n",
    "\n",
    " * Find the trace of the matrix\n",
    " * Extract the anto-diagonal (this should be ```array([10, 18, 24, 28, 30, 30, 28, 24, 18, 10])```)\n",
    " * Extract the diagnoal offset by 1 upwards (this should be ```array([ 2,  6, 12, 20, 30, 42, 56, 72, 90])```)"
   ]
  },
  {
   "cell_type": "code",
   "execution_count": 11,
   "metadata": {},
   "outputs": [
    {
     "name": "stdout",
     "output_type": "stream",
     "text": [
      "Multiplication Table:  \n",
      " [[  1   2   3   4   5   6   7   8   9  10]\n",
      " [  2   4   6   8  10  12  14  16  18  20]\n",
      " [  3   6   9  12  15  18  21  24  27  30]\n",
      " [  4   8  12  16  20  24  28  32  36  40]\n",
      " [  5  10  15  20  25  30  35  40  45  50]\n",
      " [  6  12  18  24  30  36  42  48  54  60]\n",
      " [  7  14  21  28  35  42  49  56  63  70]\n",
      " [  8  16  24  32  40  48  56  64  72  80]\n",
      " [  9  18  27  36  45  54  63  72  81  90]\n",
      " [ 10  20  30  40  50  60  70  80  90 100]] \n",
      " Trace =  385 \n",
      "\n",
      "Anti-diagonal \n",
      " [10 18 24 28 30 30 28 24 18 10] \n",
      " Diagonal offset 1: \n",
      " [ 2  6 12 20 30 42 56 72 90]\n"
     ]
    }
   ],
   "source": [
    "table=np.matrix([i*j for i in np.arange(1,11) for j in np.arange(1,11)]).reshape(10,10)\n",
    "tr=np.trace(table)\n",
    "\n",
    "anti_diag=np.diagonal(table[::-1])\n",
    "diag_1off=np.diagonal(table,1)\n",
    "\n",
    "print('Multiplication Table: ','\\n',table,'\\n', 'Trace = ',tr,'\\n')\n",
    "print('Anti-diagonal \\n',anti_diag, '\\n Diagonal offset 1: \\n',diag_1off)"
   ]
  },
  {
   "cell_type": "markdown",
   "metadata": {},
   "source": [
    "6\\. Use broadcasting to create a grid of distances\n",
    "\n",
    "Route 66 crosses the following cities in the US: Chicago, Springfield, Saint-Louis, Tulsa, Oklahoma City, Amarillo, Santa Fe, Albuquerque, Flagstaff, Los Angeles\n",
    "The corresponding positions in miles are: 0, 198, 303, 736, 871, 1175, 1475, 1544, 1913, 2448\n",
    "\n",
    "  * Construct a 2D grid of distances among each city along Route 66\n",
    "  * Convert that in km (those savages...)"
   ]
  },
  {
   "cell_type": "code",
   "execution_count": 16,
   "metadata": {},
   "outputs": [
    {
     "name": "stdout",
     "output_type": "stream",
     "text": [
      "Distances in miles:\n",
      " [[    0   198   303   736   871  1175  1475  1544  1913  2448]\n",
      " [ -198     0   105   538   673   977  1277  1346  1715  2250]\n",
      " [ -303  -105     0   433   568   872  1172  1241  1610  2145]\n",
      " [ -736  -538  -433     0   135   439   739   808  1177  1712]\n",
      " [ -871  -673  -568  -135     0   304   604   673  1042  1577]\n",
      " [-1175  -977  -872  -439  -304     0   300   369   738  1273]\n",
      " [-1475 -1277 -1172  -739  -604  -300     0    69   438   973]\n",
      " [-1544 -1346 -1241  -808  -673  -369   -69     0   369   904]\n",
      " [-1913 -1715 -1610 -1177 -1042  -738  -438  -369     0   535]\n",
      " [-2448 -2250 -2145 -1712 -1577 -1273  -973  -904  -535     0]]\n",
      "Distances in km:\n",
      " [[    0.     318.78   487.83  1184.96  1402.31  1891.75  2374.75  2485.84\n",
      "   3079.93  3941.28]\n",
      " [ -318.78     0.     169.05   866.18  1083.53  1572.97  2055.97  2167.06\n",
      "   2761.15  3622.5 ]\n",
      " [ -487.83  -169.05     0.     697.13   914.48  1403.92  1886.92  1998.01\n",
      "   2592.1   3453.45]\n",
      " [-1184.96  -866.18  -697.13     0.     217.35   706.79  1189.79  1300.88\n",
      "   1894.97  2756.32]\n",
      " [-1402.31 -1083.53  -914.48  -217.35     0.     489.44   972.44  1083.53\n",
      "   1677.62  2538.97]\n",
      " [-1891.75 -1572.97 -1403.92  -706.79  -489.44     0.     483.     594.09\n",
      "   1188.18  2049.53]\n",
      " [-2374.75 -2055.97 -1886.92 -1189.79  -972.44  -483.       0.     111.09\n",
      "    705.18  1566.53]\n",
      " [-2485.84 -2167.06 -1998.01 -1300.88 -1083.53  -594.09  -111.09     0.\n",
      "    594.09  1455.44]\n",
      " [-3079.93 -2761.15 -2592.1  -1894.97 -1677.62 -1188.18  -705.18  -594.09\n",
      "      0.     861.35]\n",
      " [-3941.28 -3622.5  -3453.45 -2756.32 -2538.97 -2049.53 -1566.53 -1455.44\n",
      "   -861.35     0.  ]]\n"
     ]
    }
   ],
   "source": [
    "positions=np.array((0, 198, 303, 736, 871, 1175, 1475, 1544, 1913, 2448))\n",
    "n_cities=len(positions)\n",
    "miles_to_km=1.61\n",
    "cities=['Chicago', 'Springfield', 'Saint-Louis', 'Tulsa', 'Oklahoma City'\n",
    "        , 'Amarillo', 'Santa Fe', 'Albuquerque', 'Flagstaff', 'Los Angeles']\n",
    "\n",
    "\n",
    "dist_in_miles=positions-np.tile(positions,(n_cities,1)).T\n",
    "print('Distances in miles:\\n',dist_in_miles)\n",
    "\n",
    "dist_in_km=dist_in_miles*miles_to_km\n",
    "print('Distances in km:\\n',dist_in_km)"
   ]
  },
  {
   "cell_type": "markdown",
   "metadata": {},
   "source": [
    "7\\. Prime numbers sieve: compute the prime numbers in the 0-N (N=99 to start with) range with a sieve (mask).\n",
    "  * Constract a shape (100,) boolean array, the mask\n",
    "  * Identify the multiples of each number starting from 2 and set accordingly the corresponding mask element\n",
    "  * Apply the mask to obtain an array of ordered prime numbers\n",
    "  * Check the performances (timeit); how does it scale with N?\n",
    "  * Implement the optimization suggested in the [sieve of Eratosthenes](https://en.wikipedia.org/wiki/Sieve_of_Eratosthenes)"
   ]
  },
  {
   "cell_type": "code",
   "execution_count": 21,
   "metadata": {},
   "outputs": [
    {
     "data": {
      "image/png": "[encoded data removed]",
      "text/plain": [
       "<Figure size 432x288 with 1 Axes>"
      ]
     },
     "metadata": {
      "needs_background": "light"
     },
     "output_type": "display_data"
    }
   ],
   "source": [
    "def PrimeNumbers(N):\n",
    "    Nmax = int(np.sqrt(N)) + 1\n",
    "    n_list = np.ones(N, bool)\n",
    "    for i in range(2, Nmax):\n",
    "        if n_list[i] == True:\n",
    "            for n in range(2, N):\n",
    "                j = n*i\n",
    "                if j < N:\n",
    "                    n_list[j] = False\n",
    "    prime_numbers=np.array(np.nonzero(n_list))\n",
    "    return prime_numbers[prime_numbers>1] #only n>1 \n",
    "\n",
    "\n",
    "def SieveOfEratosthenes(N): \n",
    "    n_list = np.ones(N, bool)\n",
    "    p = 2 #smallest prime number\n",
    "    while p * p <= N: \n",
    "        if (n_list[p] == True): \n",
    "            for i in range(p * 2, N, p): \n",
    "                n_list[i] = False\n",
    "        p += 1\n",
    "    n_list[0]= False\n",
    "    n_list[1]= False\n",
    "    return np.array(np.nonzero(n_list))\n",
    "\n",
    "\n",
    "numbers = []\n",
    "time_std = []\n",
    "time_era = []\n",
    "\n",
    "for N in range(2, 10000):\n",
    "    #std\n",
    "    start_std=time.time()\n",
    "    PrimeNumbers(N)\n",
    "    end_std=time.time()\n",
    "    \n",
    "    start_era=time.time()\n",
    "    SieveOfEratosthenes(N)\n",
    "    end_era=time.time()\n",
    "    \n",
    "    numbers.append(N)\n",
    "    t_std=end_std-start_std\n",
    "    t_era=end_era-start_era\n",
    "    time_std.append(t_std)\n",
    "    time_era.append(t_era)\n",
    "\n",
    "plt.plot(numbers, time_std, label=\"Standard Method\")\n",
    "plt.plot(numbers, time_era, label=\"Sieve Of Eratosthenes\")\n",
    "plt.ylabel('Time [s]')\n",
    "plt.xlabel('N')\n",
    "plt.legend();"
   ]
  },
  {
   "cell_type": "markdown",
   "metadata": {},
   "source": [
    "8\\. Diffusion using random walk\n",
    "\n",
    "Consider a simple random walk process: at each step in time, a walker jumps right or left (+1 or -1) with equal probability. The goal is to find the typical distance from the origin of a random walker after a given amount of time. \n",
    "To do that, let's simulate many walkers and create a 2D array with each walker as a raw and the actual time evolution as columns\n",
    "\n",
    "  * Take 1000 walkers and let them walk for 200 steps\n",
    "  * Use randint to create a 2D array of size walkers x steps with values -1 or 1\n",
    "  * Build the actual walking distances for each walker (i.e. another 2D array \"summing on each raw\")\n",
    "  * Take the square of that 2D array (elementwise)\n",
    "  * Compute the mean of the squared distances at each step (i.e. the mean along the columns)\n",
    "  * Plot the average distances (sqrt(distance\\*\\*2)) as a function of time (step)\n",
    "  \n",
    "Did you get what you expected?"
   ]
  },
  {
   "cell_type": "code",
   "execution_count": 18,
   "metadata": {},
   "outputs": [
    {
     "data": {
      "image/png": "[encoded data removed]",
      "text/plain": [
       "<Figure size 432x288 with 1 Axes>"
      ]
     },
     "metadata": {
      "needs_background": "light"
     },
     "output_type": "display_data"
    }
   ],
   "source": [
    "np.random.seed(1230667)\n",
    "n_walkers = 1000\n",
    "n_steps = 200\n",
    "\n",
    "\n",
    "#2D array of size walkers x steps with values -1 or 1\n",
    "walk=np.random.choice([-1, 1],(n_walkers,n_steps))\n",
    "#walking distances for each walker (first column is all zeros)\n",
    "distance=np.c_[ np.zeros(n_walkers), np.cumsum(walk,1)]\n",
    "\n",
    "#mean of square of distance array\n",
    "mean = np.mean(distance**2, axis=0)**0.5\n",
    "\n",
    "plt.plot(mean)\n",
    "plt.ylabel(\"Distance\")\n",
    "plt.xlabel(\"Steps\");"
   ]
  },
  {
   "cell_type": "markdown",
   "metadata": {},
   "source": [
    "9\\. Analyze a data file \n",
    "  * Download the population of hares, lynxes and carrots at the beginning of the last century.\n",
    "    ```python\n",
    "    ! wget https://www.dropbox.com/s/3vigxoqayo389uc/populations.txt\n",
    "    ```\n",
    "\n",
    "  * Check the content by looking within the file\n",
    "  * Load the data (use an appropriate numpy method) into a 2D array\n",
    "  * Create arrays out of the columns, the arrays being (in order): *year*, *hares*, *lynxes*, *carrots* \n",
    "  * Plot the 3 populations over the years\n",
    "  * Compute the main statistical properties of the dataset (mean, std, correlations, etc.)\n",
    "  * Which species has the highest population each year?\n",
    "\n",
    "Do you feel there is some evident correlation here? [Studies](https://www.enr.gov.nt.ca/en/services/lynx/lynx-snowshoe-hare-cycle) tend to believe so."
   ]
  },
  {
   "cell_type": "code",
   "execution_count": 19,
   "metadata": {},
   "outputs": [
    {
     "name": "stdout",
     "output_type": "stream",
     "text": [
      "Dataset Already available\n"
     ]
    }
   ],
   "source": [
    "#if needed, download the data\n",
    "if path.exists('populations.txt')==False:\n",
    "    ! wget https://www.dropbox.com/s/3vigxoqayo389uc/populations.txt\n",
    "else: \n",
    "    print('Dataset Already available')"
   ]
  },
  {
   "cell_type": "code",
   "execution_count": 20,
   "metadata": {},
   "outputs": [
    {
     "name": "stdout",
     "output_type": "stream",
     "text": [
      "\n",
      "### HARES ###\n",
      "sum 715700.0\n",
      "min 7600.0\n",
      "argmin 17\n",
      "mean 34080.95238095238\n",
      "std 20897.906458089667\n",
      "\n",
      "### LYNXES ###\n",
      "sum 423500.0\n",
      "min 4000.0\n",
      "argmin 0\n",
      "mean 20166.666666666668\n",
      "std 16254.591536908763\n",
      "\n",
      "### CARROTS ###\n",
      "sum 890400.0\n",
      "min 36700.0\n",
      "argmin 16\n",
      "mean 42400.0\n",
      "std 3322.5062255844787\n"
     ]
    },
    {
     "data": {
      "image/png": "[encoded data removed]",
      "text/plain": [
       "<Figure size 432x288 with 1 Axes>"
      ]
     },
     "metadata": {
      "needs_background": "light"
     },
     "output_type": "display_data"
    }
   ],
   "source": [
    "data=np.genfromtxt('populations.txt') \n",
    "year=data[:,0]\n",
    "hares=data[:,1]\n",
    "lynxes=data[:,2]\n",
    "carrots=data[:,3]\n",
    "\n",
    "functions=['sum','min','argmin','mean','std']\n",
    "print(\"\\n### HARES ###\")\n",
    "for func in functions:\n",
    "    print (func, getattr(np, func)(hares))\n",
    "print(\"\\n### LYNXES ###\")\n",
    "for func in functions:\n",
    "    print (func, getattr(np, func)(lynxes))\n",
    "print(\"\\n### CARROTS ###\")\n",
    "for func in functions:\n",
    "    print (func, getattr(np, func)(carrots))\n",
    "plt.plot(year,hares,'.-',color='grey',label='hares')\n",
    "plt.plot(year,lynxes,'.-',color='red',label='lynxes')\n",
    "plt.plot(year,carrots,'.-',color='darkorange',label='carrots')\n",
    "plt.legend()\n",
    "plt.show()"
   ]
  },
  {
   "cell_type": "code",
   "execution_count": null,
   "metadata": {},
   "outputs": [],
   "source": []
  }
 ],
 "metadata": {
  "kernelspec": {
   "display_name": "Python 3",
   "language": "python",
   "name": "python3"
  },
  "language_info": {
   "codemirror_mode": {
    "name": "ipython",
    "version": 3
   },
   "file_extension": ".py",
   "mimetype": "text/x-python",
   "name": "python",
   "nbconvert_exporter": "python",
   "pygments_lexer": "ipython3",
   "version": "3.7.3"
  }
 },
 "nbformat": 4,
 "nbformat_minor": 2
}
