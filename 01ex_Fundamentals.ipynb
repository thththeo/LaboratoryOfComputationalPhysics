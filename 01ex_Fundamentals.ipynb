{
 "cells": [
  {
   "cell_type": "markdown",
   "metadata": {},
   "source": [
    "1\\. Write the following as a list comprehension"
   ]
  },
  {
   "cell_type": "code",
   "execution_count": 1,
   "metadata": {},
   "outputs": [
    {
     "name": "stdout",
     "output_type": "stream",
     "text": [
      "[(0, 0), (0, 1), (0, 2), (0, 3), (1, 0), (1, 1), (1, 2), (1, 3), (2, 0), (2, 1), (2, 2), (2, 3)]\n",
      "\n",
      "list compr A [(0, 0), (0, 1), (0, 2), (0, 3), (1, 0), (1, 1), (1, 2), (1, 3), (2, 0), (2, 1), (2, 2), (2, 3)]\n",
      "\n",
      " [0, 4, 16]\n",
      "list compr B: [0, 4, 16]\n"
     ]
    }
   ],
   "source": [
    "# 1\n",
    "ans = []\n",
    "for i in range(3):\n",
    "    for j in range(4):\n",
    "        ans.append((i, j))\n",
    "print (ans)\n",
    "print('\\nlist compr A', [(x,y) for x in range(3) for y in range(4)])\n",
    "\n",
    "# 2\n",
    "ans = map(lambda x: x*x, filter(lambda x: x%2 == 0, range(5)))\n",
    "print (\"\\n\",list(ans))\n",
    "print('list compr B:', [x**2 for x in range (0,5) if x%2==0])\n"
   ]
  },
  {
   "cell_type": "markdown",
   "metadata": {},
   "source": [
    "2\\. Convert the following function into a pure function with no global variables or side effects"
   ]
  },
  {
   "cell_type": "code",
   "execution_count": 2,
   "metadata": {},
   "outputs": [
    {
     "name": "stdout",
     "output_type": "stream",
     "text": [
      "[1, 2, 3, 0, 1, 2, 3, 4]\n",
      "[1, 2, 3, 0, 1, 2, 3, 4]\n"
     ]
    }
   ],
   "source": [
    "x = 5\n",
    "def f(alist):\n",
    "    for i in range(x):\n",
    "        alist.append(i)\n",
    "    return alist\n",
    "\n",
    "alist = [1,2,3]\n",
    "ans = f(alist)\n",
    "print (ans)\n",
    "print (alist) # alist has been changed!"
   ]
  },
  {
   "cell_type": "code",
   "execution_count": 3,
   "metadata": {},
   "outputs": [
    {
     "name": "stdout",
     "output_type": "stream",
     "text": [
      "[1, 2, 3, 0, 1, 2, 3, 4]\n",
      "[1, 2, 3]\n"
     ]
    }
   ],
   "source": [
    "def f(alist):\n",
    "    x = 5\n",
    "    s=list()\n",
    "    for i in range(x):\n",
    "        s.append(i)\n",
    "    alist=alist+s\n",
    "    return alist\n",
    "\n",
    "alist = [1,2,3]\n",
    "ans = f(alist)\n",
    "print (ans)\n",
    "print (alist) # alist has not been changed!"
   ]
  },
  {
   "cell_type": "markdown",
   "metadata": {},
   "source": [
    "3\\. Write a `decorator` hello that makes every wrapped function print “Hello!”, i.e. something like:\n",
    "\n",
    "```python\n",
    "@hello\n",
    "def square(x):\n",
    "    return x*x\n",
    "```\n",
    "\n"
   ]
  },
  {
   "cell_type": "code",
   "execution_count": 4,
   "metadata": {},
   "outputs": [
    {
     "name": "stdout",
     "output_type": "stream",
     "text": [
      "Hello!\n",
      "4\n"
     ]
    }
   ],
   "source": [
    "def hello(func):\n",
    "    def wrapper(x):\n",
    "        print(\"Hello!\")\n",
    "        return func(x)\n",
    "    return wrapper\n",
    "\n",
    "@hello\n",
    "def square(x):\n",
    "    return x*x\n",
    "\n",
    "print(square(2))"
   ]
  },
  {
   "cell_type": "markdown",
   "metadata": {},
   "source": [
    "4\\. Write the factorial function so that it a) does and b) does not use recursion."
   ]
  },
  {
   "cell_type": "code",
   "execution_count": 5,
   "metadata": {},
   "outputs": [
    {
     "name": "stdout",
     "output_type": "stream",
     "text": [
      "Recursion:  24\n",
      "No recursion:  24\n"
     ]
    }
   ],
   "source": [
    "import numpy as np\n",
    "\n",
    "a=4\n",
    "def factorial_rec(x):\n",
    "    if( x==0 ): return 1\n",
    "    else:\n",
    "        return x*factorial_rec(x-1)\n",
    "print(\"Recursion: \",factorial_rec(a))\n",
    "\n",
    "def factorial_no_rec(x):\n",
    "    total = 1\n",
    "    while(x>0):\n",
    "        total = total * x\n",
    "        x = x-1\n",
    "    return total\n",
    "print(\"No recursion: \",factorial_no_rec(a))"
   ]
  },
  {
   "cell_type": "markdown",
   "metadata": {},
   "source": [
    "5\\. Use HOFs (zip in particular) to compute the weight of a circle, a disk and a sphere, assuming different radii and different densities:\n",
    "\n",
    "```python\n",
    "densities = {\"Al\":[0.5,1,2],\"Fe\":[3,4,5],\"Pb\": [15,20,30]}\n",
    "radii = [1,2,3]\n",
    "```\n",
    "\n",
    "where the entries of the dictionary's values are the linear, superficial and volumetric densities of the materials respectively.\n",
    "\n",
    "In particular define a list of three lambda functions using a comprehension that computes the circumference, the area and the volume for a given radius.\n"
   ]
  },
  {
   "cell_type": "code",
   "execution_count": 6,
   "metadata": {},
   "outputs": [
    {
     "name": "stdout",
     "output_type": "stream",
     "text": [
      "\n",
      "Al\n",
      "\n",
      "r = 1\n",
      "Dim | Mass\n",
      "1D    3.141592653589793\n",
      "2D    3.141592653589793\n",
      "3D    8.377580409572781\n",
      "\n",
      "r = 2\n",
      "Dim | Mass\n",
      "1D    6.283185307179586\n",
      "2D    12.566370614359172\n",
      "3D    67.02064327658225\n",
      "\n",
      "r = 3\n",
      "Dim | Mass\n",
      "1D    9.42477796076938\n",
      "2D    28.274333882308138\n",
      "3D    226.19467105846508\n",
      "\n",
      "Fe\n",
      "\n",
      "r = 1\n",
      "Dim | Mass\n",
      "1D    18.84955592153876\n",
      "2D    12.566370614359172\n",
      "3D    20.94395102393195\n",
      "\n",
      "r = 2\n",
      "Dim | Mass\n",
      "1D    37.69911184307752\n",
      "2D    50.26548245743669\n",
      "3D    167.5516081914556\n",
      "\n",
      "r = 3\n",
      "Dim | Mass\n",
      "1D    56.548667764616276\n",
      "2D    113.09733552923255\n",
      "3D    565.4866776461627\n",
      "\n",
      "Pb\n",
      "\n",
      "r = 1\n",
      "Dim | Mass\n",
      "1D    94.24777960769379\n",
      "2D    62.83185307179586\n",
      "3D    125.66370614359171\n",
      "\n",
      "r = 2\n",
      "Dim | Mass\n",
      "1D    188.49555921538757\n",
      "2D    251.32741228718345\n",
      "3D    1005.3096491487337\n",
      "\n",
      "r = 3\n",
      "Dim | Mass\n",
      "1D    282.7433388230814\n",
      "2D    565.4866776461628\n",
      "3D    3392.920065876976\n"
     ]
    }
   ],
   "source": [
    "from numpy import pi\n",
    "\n",
    "densities = {\"Al\":[0.5,1,2],\"Fe\":[3,4,5],\"Pb\": [15,20,30]}\n",
    "radii = [1,2,3]\n",
    "\n",
    "for material in densities:  \n",
    "    print(\"\\n\"+material)\n",
    "    function   = [lambda r: 2*pi*r, lambda r: pi*r**2, lambda r: 4/3*pi*r**3]\n",
    "    dimensions = [\"1D\", \"2D\", \"3D\"]\n",
    "    # cicle over radii\n",
    "    for r in radii:\n",
    "        print(\"\\nr =\", r)\n",
    "        print(\"Dim | Mass\")\n",
    "        # cicle over densities and functions\n",
    "        for d, f, dim in zip(densities[material], function, dimensions):\n",
    "            print(dim, \"  \", d*f(r))"
   ]
  },
  {
   "cell_type": "markdown",
   "metadata": {},
   "source": [
    "6\\. Edit the class defintion to add an instance attribute of is_hungry = True to the Dog class. Then add a method called eat() which changes the value of is_hungry to False when called. Figure out the best way to feed each dog and then output “My dogs are hungry.” if all are hungry or “My dogs are not hungry.” if all are not hungry. The final output should look like this:\n",
    "\n",
    "`I have 3 dogs. \n",
    "Tom is 6. \n",
    "Fletcher is 7. \n",
    "Larry is 9. \n",
    "And they're all mammals, of course. \n",
    "My dogs are not hungry.\n",
    "`\n",
    "\n",
    "```python\n",
    "# Parent class\n",
    "class Dog:\n",
    "\n",
    "    # Class attribute\n",
    "    species = 'mammal'\n",
    "\n",
    "    # Initializer / Instance attributes\n",
    "    def __init__(self, name, age):\n",
    "        self.name = name\n",
    "        self.age = age\n",
    "\n",
    "    # instance method\n",
    "    def description(self):\n",
    "        return \"{} is {} years old\".format(self.name, self.age)\n",
    "\n",
    "    # instance method\n",
    "    def speak(self, sound):\n",
    "        return \"{} says {}\".format(self.name, sound)\n",
    "\n",
    "# Child class (inherits from Dog class)\n",
    "class RussellTerrier(Dog):\n",
    "    def run(self, speed):\n",
    "        return \"{} runs {}\".format(self.name, speed)\n",
    "\n",
    "# Child class (inherits from Dog class)\n",
    "class Bulldog(Dog):\n",
    "    def run(self, speed):\n",
    "        return \"{} runs {}\".format(self.name, speed)\n",
    "```"
   ]
  },
  {
   "cell_type": "code",
   "execution_count": 7,
   "metadata": {},
   "outputs": [
    {
     "name": "stdout",
     "output_type": "stream",
     "text": [
      "\n",
      "I have 3 dogs\n",
      "Tom is 9\n",
      "Pluto is 12\n",
      "Pop is 2\n",
      "They are all mammal\n",
      "My dogs are hungry\n",
      "Feeding Tom\n",
      "Feeding Pluto\n",
      "Feeding Pop\n"
     ]
    }
   ],
   "source": [
    "# Parent class\n",
    "class Dog:\n",
    "\n",
    "    # Class attribute\n",
    "    species = 'mammal'\n",
    "    \n",
    "    # Initializer / Instance attributes\n",
    "    def __init__(self, name, age,is_hungry=True):\n",
    "        self.name = name\n",
    "        self.age = age\n",
    "        self.is_hungry = True\n",
    "\n",
    "        \n",
    "    # instance method\n",
    "    def description(self):\n",
    "        return \"{} is {} years old\".format(self.name, self.age)\n",
    "\n",
    "    # instance method\n",
    "    def speak(self, sound):\n",
    "        return \"{} says {}\".format(self.name, sound)\n",
    "    \n",
    "    #instance method\n",
    "    def eat(self):\n",
    "        self.is_hungry=False\n",
    "        return self.is_hungry\n",
    "\n",
    "    def mammal(self):\n",
    "        return \"And they are all mammal\"\n",
    "\n",
    "# Child class (inherits from Dog class)\n",
    "class RussellTerrier(Dog):\n",
    "    def run(self, speed):\n",
    "        return \"{} runs {}\".format(self.name, speed)\n",
    "\n",
    "# Child class (inherits from Dog class)\n",
    "class Bulldog(Dog):\n",
    "    def run(self, speed):\n",
    "        return \"{} runs {}\".format(self.name, speed)\n",
    "    \n",
    "    \n",
    "def isHungry(DogList):\n",
    "    cnt = 0\n",
    "    for dog in DogList:\n",
    "        if (dog.is_hungry == True):  cnt += 1\n",
    "    if(cnt == len(DogList)): \n",
    "        print(\"My dogs are hungry\")\n",
    "        return(True)\n",
    "    elif(cnt == 0):\n",
    "        print(\"My dogs are not hungry\")\n",
    "        return(False)\n",
    "    else:\n",
    "        print(\"Some dogs are hungry\")\n",
    "        return(True)\n",
    "\n",
    "\n",
    "Tom      = Dog(\"Tom\", 9)\n",
    "Pluto = RussellTerrier(\"Pluto\", 12)\n",
    "Pop    = Bulldog(\"Pop\", 2)\n",
    "MyDogs = [Tom, Pluto, Pop]\n",
    "\n",
    "print(\"\\nI have\", len(MyDogs), \"dogs\")\n",
    "for dog in MyDogs:\n",
    "    print(dog.name, \"is\", dog.age)\n",
    "print(\"They are all\", Tom.species)\n",
    "if (isHungry(MyDogs) == True):\n",
    "    for dog in MyDogs:    \n",
    "        if(dog.is_hungry == True): \n",
    "            print(\"Feeding\", dog.name)\n",
    "            dog.eat()\n",
    "        else:\n",
    "            print(dog.name, \"is not hungry\")"
   ]
  }
 ],
 "metadata": {
  "kernelspec": {
   "display_name": "Python 3",
   "language": "python",
   "name": "python3"
  },
  "language_info": {
   "codemirror_mode": {
    "name": "ipython",
    "version": 3
   },
   "file_extension": ".py",
   "mimetype": "text/x-python",
   "name": "python",
   "nbconvert_exporter": "python",
   "pygments_lexer": "ipython3",
   "version": "3.7.3"
  }
 },
 "nbformat": 4,
 "nbformat_minor": 2
}
