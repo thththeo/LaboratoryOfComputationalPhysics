{
 "cells": [
  {
   "cell_type": "code",
   "execution_count": 8,
   "metadata": {},
   "outputs": [],
   "source": [
    "import numpy as np"
   ]
  },
  {
   "cell_type": "markdown",
   "metadata": {},
   "source": [
    "1\\. Write a function that converts number representation (bin<->dec<->hex)"
   ]
  },
  {
   "cell_type": "code",
   "execution_count": 9,
   "metadata": {},
   "outputs": [
    {
     "name": "stdout",
     "output_type": "stream",
     "text": [
      "Decimal Number = 21\n",
      "Binary = 10101\n",
      "Hexadecimal = 15\n",
      "\n",
      "\n",
      "Binary Number = 11010\n",
      "Converted to Dec = 26\n",
      "Converted to Hex = 1A\n",
      "\n",
      "\n",
      "Hexadecimal Number = F\n",
      "Converted to Dec = 15\n",
      "Converted to Bin = 1111\n"
     ]
    }
   ],
   "source": [
    "#to binary\n",
    "binConv = \"01\"\n",
    "#to hexadecimal\n",
    "hexConv = \"0123456789ABCDEF\"\n",
    "\n",
    "def DecToBin(Dec):\n",
    "    binNum = \"\"\n",
    "    while(Dec > 0):\n",
    "        binNum = binConv[Dec%2] + binNum\n",
    "        Dec = Dec//2\n",
    "    return binNum\n",
    "\n",
    "def DecToHex(Dec):\n",
    "    hexNum = \"\"\n",
    "    while(Dec > 0):\n",
    "        hexNum = hexConv[Dec%16] + hexNum\n",
    "        Dec = Dec//16\n",
    "    return hexNum\n",
    "\n",
    "def BinToDec(Bin):\n",
    "    dec = 0\n",
    "    Bin = Bin[::-1] #reverse order\n",
    "    for index, value in enumerate(Bin):\n",
    "        dec = dec + binConv.find(value[:])*2**index\n",
    "    return dec\n",
    "\n",
    "def BinToHex(Bin):\n",
    "    return(DecToHex(BinToDec(Bin)))\n",
    "\n",
    "def HexToDec(Bin):\n",
    "    dec = 0\n",
    "    Bin = Bin[::-1] #reverse order\n",
    "    for index, value in enumerate(Bin):\n",
    "        dec = dec + hexConv.find(value[:])*16**index\n",
    "    return dec\n",
    "\n",
    "def HexToBin(Bin):\n",
    "    return(DecToBin(HexToDec(Bin)))\n",
    "    \n",
    "\n",
    "#examples\n",
    "a = 21\n",
    "print(\"Decimal Number =\", a)\n",
    "print(\"Binary =\", DecToBin(a))\n",
    "print(\"Hexadecimal =\", DecToHex(a))\n",
    "print(\"\\n\")\n",
    "\n",
    "b = \"11010\"\n",
    "print(\"Binary Number =\", b)\n",
    "print(\"Converted to Dec =\", BinToDec(b))\n",
    "print(\"Converted to Hex =\", BinToHex(b))\n",
    "print(\"\\n\")\n",
    "\n",
    "c = \"F\"\n",
    "print(\"Hexadecimal Number =\", c)\n",
    "print(\"Converted to Dec =\", HexToDec(c))\n",
    "print(\"Converted to Bin =\", HexToBin(c))        \n",
    "    "
   ]
  },
  {
   "cell_type": "markdown",
   "metadata": {},
   "source": [
    "2\\. Write a function that converts a 32 bit word into a single precision floating point (i.e. interprets the various bits as sign, mantissa and exponent)"
   ]
  },
  {
   "cell_type": "code",
   "execution_count": 10,
   "metadata": {},
   "outputs": [
    {
     "name": "stdout",
     "output_type": "stream",
     "text": [
      "Input = -983.239\n",
      "32-bit Input = 11000100011101011100111101001100 \n",
      "\n",
      "Exponent = 10001000 ---> 9\n",
      "Mantissa = 11101011100111101001100 ---> 1.9203886985778809\n",
      "Floating point notation = - (2**9) * (1.9203886985778809)\n"
     ]
    }
   ],
   "source": [
    "import bitstring\n",
    "\n",
    "def BitToSign(num):\n",
    "    if(num == \"0\"): \n",
    "        return \"+\"\n",
    "    elif(num == \"1\"): \n",
    "        return \"-\"\n",
    "    \n",
    "    \n",
    "f = -983.2390\n",
    "# Pack the value as float (32 bit) with MSB in starting position\n",
    "b = bitstring.pack('>f', f)\n",
    "# Sign, exponent mantissa bits\n",
    "sbit, expbits, mantbits = b[:1], b[1:9], b[9:]\n",
    "print(\"Input =\", f)\n",
    "print(\"32-bit Input =\", b.bin,\"\\n\")\n",
    "print(\"Exponent =\", expbits.bin, \"--->\", expbits.uint - 127) # exponent bias is 127 \n",
    "print(\"Mantissa =\", mantbits.bin, \"--->\", 1 + mantbits.uint / (1<<23)) # 1<<23 = 2**23\n",
    "floatNot = BitToSign(sbit.bin)+\" (2**\"+str(expbits.uint - 127)+\") * (\"+str(1 + mantbits.uint / (1<<23))+\")\"\n",
    "print(\"Floating point notation =\", floatNot)"
   ]
  },
  {
   "cell_type": "markdown",
   "metadata": {},
   "source": [
    "3\\. Write a program to determine the underflow and overflow limits (within a factor of 2) for python on your computer. \n",
    "\n",
    "**Tips**: define two variables inizialized to 1 and halve/double them enough time to exceed the under/over-flow limits  "
   ]
  },
  {
   "cell_type": "code",
   "execution_count": 11,
   "metadata": {},
   "outputs": [
    {
     "name": "stdout",
     "output_type": "stream",
     "text": [
      "Underflow limit = 5e-324\n"
     ]
    }
   ],
   "source": [
    "a = 1\n",
    "b = 1\n",
    "\n",
    "while(a/2 != 0):\n",
    "    a = a/2\n",
    "print(\"Underflow limit =\", a)"
   ]
  },
  {
   "cell_type": "code",
   "execution_count": 4,
   "metadata": {},
   "outputs": [
    {
     "name": "stdout",
     "output_type": "stream",
     "text": [
      "Underflow limit = 5e-324\n"
     ]
    },
    {
     "ename": "KeyboardInterrupt",
     "evalue": "",
     "output_type": "error",
     "traceback": [
      "\u001b[0;31m---------------------------------------------------------------------------\u001b[0m",
      "\u001b[0;31mKeyboardInterrupt\u001b[0m                         Traceback (most recent call last)",
      "\u001b[0;32m<ipython-input-4-6f69ded0bd65>\u001b[0m in \u001b[0;36m<module>\u001b[0;34m\u001b[0m\n\u001b[1;32m      7\u001b[0m \u001b[0mprint\u001b[0m\u001b[0;34m(\u001b[0m\u001b[0;34m\"Underflow limit =\"\u001b[0m\u001b[0;34m,\u001b[0m \u001b[0ma\u001b[0m\u001b[0;34m)\u001b[0m\u001b[0;34m\u001b[0m\u001b[0;34m\u001b[0m\u001b[0m\n\u001b[1;32m      8\u001b[0m \u001b[0;34m\u001b[0m\u001b[0m\n\u001b[0;32m----> 9\u001b[0;31m \u001b[0;32mwhile\u001b[0m\u001b[0;34m(\u001b[0m\u001b[0mb\u001b[0m\u001b[0;34m+\u001b[0m\u001b[0;36m1\u001b[0m \u001b[0;34m>\u001b[0m \u001b[0mb\u001b[0m\u001b[0;34m)\u001b[0m\u001b[0;34m:\u001b[0m\u001b[0;34m\u001b[0m\u001b[0;34m\u001b[0m\u001b[0m\n\u001b[0m\u001b[1;32m     10\u001b[0m    \u001b[0;32mtry\u001b[0m\u001b[0;34m:\u001b[0m\u001b[0;34m\u001b[0m\u001b[0;34m\u001b[0m\u001b[0m\n\u001b[1;32m     11\u001b[0m        \u001b[0mb\u001b[0m \u001b[0;34m=\u001b[0m \u001b[0mb\u001b[0m\u001b[0;34m*\u001b[0m\u001b[0;36m2\u001b[0m\u001b[0;34m\u001b[0m\u001b[0;34m\u001b[0m\u001b[0m\n",
      "\u001b[0;31mKeyboardInterrupt\u001b[0m: "
     ]
    }
   ],
   "source": [
    "while(b+1 > b):\n",
    "    try:\n",
    "        b = b*2\n",
    "    except OverflowError as e:\n",
    "        print ('Overflowed after ', b, e)"
   ]
  },
  {
   "cell_type": "markdown",
   "metadata": {},
   "source": [
    "4\\. Write a program to determine the machine precision\n",
    "\n",
    "**Tips**: define a new variable by adding a smaller and smaller value (proceeding similarly to prob. 2) to an original variable and check the point where the two are the same "
   ]
  },
  {
   "cell_type": "code",
   "execution_count": 13,
   "metadata": {},
   "outputs": [
    {
     "name": "stdout",
     "output_type": "stream",
     "text": [
      "machine precision = 2.220446049250313e-16\n"
     ]
    }
   ],
   "source": [
    "a = 1\n",
    "b = 1\n",
    "\n",
    "while(a != a+b/2):\n",
    "    b = b/2\n",
    "    \n",
    "print(\"machine precision =\", b)"
   ]
  },
  {
   "cell_type": "markdown",
   "metadata": {},
   "source": [
    "5\\. Write a function that takes in input three parameters $a$, $b$ and $c$ and prints out the two solutions to the quadratic equation $ax^2+bx+c=0$ using the standard formula:\n",
    "$$\n",
    "x=\\frac{-b\\pm\\sqrt{b^2-4ac}}{2a}\n",
    "$$\n",
    "\n",
    "(a) use the program to compute the solution for $a=0.001$, $b=1000$ and $c=0.001$\n",
    "\n",
    "(b) re-express the standard solution formula by multiplying top and bottom by $-b\\mp\\sqrt{b^2-4ac}$ and again find the solution for $a=0.001$, $b=1000$ and $c=0.001$. How does it compare with what previously obtained? Why?\n",
    "\n",
    "(c) write a function that compute the roots of a quadratic equation accurately in all cases"
   ]
  },
  {
   "cell_type": "code",
   "execution_count": 16,
   "metadata": {},
   "outputs": [
    {
     "name": "stdout",
     "output_type": "stream",
     "text": [
      "Standard Method:\n",
      "x1 = -999999.999999 \n",
      "x2 = -9.999894245993346e-07\n",
      "\n",
      "\n",
      "\n",
      "Modified Method:\n",
      "x1 = -999999.9999989999 \n",
      "x2 = -9.999894245993346e-07\n",
      "\n",
      "\n",
      "\n",
      "Final method:\n",
      "x1 = -1.000000000001e-06 \n",
      "x2 = -999999.999999\n"
     ]
    }
   ],
   "source": [
    "def std_quad_roots(a,b,c):\n",
    "    delta=b**2-4*a*c\n",
    "    if delta < 0:\n",
    "        print('no real solutions')\n",
    "        return\n",
    "    else:     \n",
    "        x1=1/(2*a)*(-b-np.sqrt(delta))\n",
    "        x2=1/(2*a)*(-b+np.sqrt(delta))\n",
    "    return x1,x2\n",
    "\n",
    "def mod_quad_roots(a,b,c):\n",
    "    delta=b**2-4*a*c\n",
    "    if delta < 0:\n",
    "        print('no real solutions')\n",
    "        return\n",
    "    else:     \n",
    "        x1=(-b+np.sqrt(delta))/(2*a)*(-b-np.sqrt(delta))/(-b+np.sqrt(delta))\n",
    "        x2=(-b-np.sqrt(delta))/(2*a)*(-b+np.sqrt(delta))/(-b-np.sqrt(delta))\n",
    "    return x1,x2\n",
    "\n",
    "\n",
    "def stable_quad_roots(a, b, c):\n",
    "    delta = b**2 - 4*a*c\n",
    "    if delta < 0:\n",
    "        print('no real solutions')\n",
    "        return\n",
    "    else:\n",
    "        if(b<0):\n",
    "            x1 =  2*c / (-b+delta**0.5)    \n",
    "            x2 = (-b + delta**0.5) / (2*a) \n",
    "        else:\n",
    "            x1 =  -2*c / (b+delta**0.5)    \n",
    "            x2 = (-b - delta**0.5) / (2*a) \n",
    "        return(x1, x2)\n",
    "\n",
    "    \n",
    "a = 0.001\n",
    "b = 1000\n",
    "c = 0.001\n",
    "print(\"Standard Method:\")\n",
    "x1, x2 = std_quad_roots(a, b, c)\n",
    "print(\"x1 =\", x1, \"\\nx2 =\", x2)\n",
    "print(\"\\n\\n\")\n",
    "print(\"Modified Method:\")\n",
    "x1, x2 = mod_quad_roots(a, b, c)\n",
    "print(\"x1 =\", x1, \"\\nx2 =\", x2)\n",
    "print(\"\\n\\n\")\n",
    "print(\"Final method:\")\n",
    "x1, x2 = stable_quad_roots(a, b, c)\n",
    "print(\"x1 =\", x1, \"\\nx2 =\", x2)"
   ]
  },
  {
   "cell_type": "markdown",
   "metadata": {},
   "source": [
    "6\\. Write a program that implements the function $f(x)=x(x−1)$\n",
    "\n",
    "(a) Calculate the derivative of the function at the point $x = 1$ using the derivative definition:\n",
    "\n",
    "$$\n",
    "\\frac{{\\rm d}f}{{\\rm d}x} = \\lim_{\\delta\\to0} \\frac{f(x+\\delta)-f(x)}{\\delta}\n",
    "$$\n",
    "\n",
    "with $\\delta = 10^{−2}$. Calculate the true value of the same derivative analytically and compare with the answer your program gives. The two will not agree perfectly. Why not?\n",
    "\n",
    "(b) Repeat the calculation for $\\delta = 10^{−4}, 10^{−6}, 10^{−8}, 10^{−10}, 10^{−12}$ and $10^{−14}$. How does the accuracy scales with $\\delta$?"
   ]
  },
  {
   "cell_type": "code",
   "execution_count": 18,
   "metadata": {},
   "outputs": [
    {
     "name": "stdout",
     "output_type": "stream",
     "text": [
      "Analitical derivative in x=1 : 1\n",
      "delta    der        acc\n",
      "1e-14    0.9992007221626509   0.9992007221626509\n",
      "1e-12    1.0000889005833413   0.9999110994166587\n",
      "1e-10    1.000000082840371   0.999999917159629\n",
      "1e-08    1.0000000039225287   0.9999999960774713\n",
      "1e-06    1.0000009999177333   0.9999990000822667\n",
      "0.0001    1.0000999999998899   0.9999000000001101\n",
      "0.01    1.010000000000001   0.9899999999999991\n"
     ]
    },
    {
     "data": {
      "image/png": "[encoded data removed]",
      "text/plain": [
       "<Figure size 432x288 with 1 Axes>"
      ]
     },
     "metadata": {
      "needs_background": "light"
     },
     "output_type": "display_data"
    }
   ],
   "source": [
    "import numpy as np\n",
    "import matplotlib.pyplot as plt\n",
    "\n",
    "x=1\n",
    "def f(x):\n",
    "    return x*(x-1)\n",
    "\n",
    "def derivative(f,x,delta):\n",
    "    return((f(x+delta)-f(x))/delta)\n",
    "\n",
    "print('Analitical derivative in x=1 :',1)\n",
    "\n",
    "deltas=np.logspace(-14,-2,7)\n",
    "accuracies=[]\n",
    "derivatives=[]\n",
    "print('delta    der        acc')\n",
    "for delta in deltas:\n",
    "    f_prime=derivative(f,x,delta)\n",
    "    accu=1-abs(1-f_prime)\n",
    "    print(delta,'  ',f_prime,' ',accu)\n",
    "\n",
    "    accuracies.append(accu)\n",
    "    derivatives.append(f_prime)\n",
    "    \n",
    "plt.plot(deltas,accuracies,'.-')\n",
    "plt.xscale('log')\n",
    "plt.show()"
   ]
  },
  {
   "cell_type": "markdown",
   "metadata": {},
   "source": [
    "7\\. Consider the integral of the semicircle of radius 1:\n",
    "$$\n",
    "I=\\int_{-1}^{1} \\sqrt(1-x^2) {\\rm d}x\n",
    "$$\n",
    "which it's known to be $I=\\frac{\\pi}{2}=1.57079632679...$.\n",
    "Alternatively we can use the Riemann definition of the integral:\n",
    "$$\n",
    "I=\\lim_{N\\to\\infty} \\sum_{k=1}^{N} h y_k \n",
    "$$\n",
    "\n",
    "with $h=2/N$ the width of each of the $N$ slices the domain is divided into and where\n",
    "$y_k$ is the value of the function at the $k-$th slice.\n",
    "\n",
    "(a) Write a programe to compute the integral with $N=100$. How does the result compares to the true value?\n",
    "\n",
    "(b) How much can $N$ be increased if the computation needs to be run in less than a second? What is the gain in running it for 1 minute? \n"
   ]
  },
  {
   "cell_type": "code",
   "execution_count": 19,
   "metadata": {
    "scrolled": true
   },
   "outputs": [
    {
     "name": "stdout",
     "output_type": "stream",
     "text": [
      "N =  100\n",
      "I =  1.5691342555492505  Time:  0.00044 s  Accuracy:  0.9989418925819381 \n",
      "\n",
      "N =  245000\n",
      "I =  1.570796313080845  Time:  0.91233 s  Accuracy:  0.9999999912693637 \n",
      "\n",
      "N =  20000000.0\n",
      "I =  1.570796326776609  Time:  80.8821 s  Accuracy:  0.9999999999883578 \n",
      "\n"
     ]
    }
   ],
   "source": [
    "import numpy as np\n",
    "import time\n",
    "def semi_circle_integral(N):\n",
    "    s=0.\n",
    "    for i in np.arange(1,N+1):\n",
    "        k=-1+2*i/N\n",
    "        #k=-1+2*(i-1)/(N-1)\n",
    "        s+=2/N*np.sqrt(1-(k)**2)\n",
    "    return s\n",
    "\n",
    "\n",
    "N=[100,245000,2e7]\n",
    "\n",
    "for n in N:\n",
    "    start=time.time()\n",
    "    I=semi_circle_integral(n)\n",
    "    acc = 1-abs(np.pi/2 - I) / (np.pi/2)\n",
    "    end=time.time()\n",
    "    print('N = ',n)\n",
    "    print('I = ',I,' Time: ',np.round(end-start,5),'s',\n",
    "          \" Accuracy: \",acc,'\\n')\n"
   ]
  }
 ],
 "metadata": {
  "kernelspec": {
   "display_name": "Python 3",
   "language": "python",
   "name": "python3"
  },
  "language_info": {
   "codemirror_mode": {
    "name": "ipython",
    "version": 3
   },
   "file_extension": ".py",
   "mimetype": "text/x-python",
   "name": "python",
   "nbconvert_exporter": "python",
   "pygments_lexer": "ipython3",
   "version": "3.7.3"
  }
 },
 "nbformat": 4,
 "nbformat_minor": 2
}
